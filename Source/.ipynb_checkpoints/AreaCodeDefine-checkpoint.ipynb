{
 "cells": [
  {
   "cell_type": "code",
   "execution_count": 16,
   "id": "1794178e",
   "metadata": {},
   "outputs": [],
   "source": [
    "import geopandas as gpd\n",
    "import pandas as pd\n",
    "from pathlib import Path\n",
    "%matplotlib inline\n",
    "from geopandas.tools import sjoin"
   ]
  },
  {
   "cell_type": "code",
   "execution_count": 17,
   "id": "bc5a4da1",
   "metadata": {},
   "outputs": [],
   "source": [
    "root_path = \"C:\\\\Git\\\\eqreplay\"\n",
    "\n",
    "shapefile_path = os.path.join(root_path, \"Source\\\\Shapefile\")\n"
   ]
  },
  {
   "cell_type": "code",
   "execution_count": 18,
   "id": "797955db",
   "metadata": {},
   "outputs": [
    {
     "name": "stdout",
     "output_type": "stream",
     "text": [
      "   Site_ID Site_Name    Site_Lon   Site_Lat\n",
      "0   S00003      宜蘭國小  121.754402  24.752899\n",
      "1   S00004      港坪國小  120.424301  23.479099\n",
      "2   S00005      南安國中  121.868698  24.575899\n",
      "3   S00006      光復國小  121.427498  23.673700\n",
      "4   S00007      玉東國中  121.370300  23.417200\n",
      "..     ...       ...         ...        ...\n",
      "94  S00116      萬富國小  121.688003  24.679911\n",
      "95  S00117      南山國小  121.380302  24.437420\n",
      "96  S00118      堵南國小  121.692398  25.083490\n",
      "97  S00119      蘭嶼高中  121.511703  22.048260\n",
      "98  S00120      蘭嶼國小  121.562798  22.019560\n",
      "\n",
      "[99 rows x 4 columns]\n"
     ]
    }
   ],
   "source": [
    "loc = pd.read_csv(r\"C:\\\\Git\\\\eqreplay\\\\Source\\\\Site_loc.csv\")\n",
    "print(loc)\n",
    "site_geo = gpd.GeoDataFrame(loc, geometry=gpd.points_from_xy(loc.Site_Lon, loc.Site_Lat))\n"
   ]
  },
  {
   "cell_type": "code",
   "execution_count": 19,
   "id": "8d63b15a",
   "metadata": {
    "scrolled": true
   },
   "outputs": [
    {
     "name": "stdout",
     "output_type": "stream",
     "text": [
      "  TOWNID  TOWNCODE COUNTYNAME TOWNNAME             TOWNENG COUNTYID  \\\n",
      "0    V02  10014020        臺東縣      成功鎮  Chenggong Township        V   \n",
      "1    T21  10013210        屏東縣      佳冬鄉    Jiadong Township        T   \n",
      "2    P13  10009130        雲林縣      麥寮鄉    Mailiao Township        P   \n",
      "3    V11  10014110        臺東縣      綠島鄉      Ludao Township        V   \n",
      "4    V16  10014160        臺東縣      蘭嶼鄉      Lanyu Township        V   \n",
      "\n",
      "  COUNTYCODE                                           geometry  \n",
      "0      10014  POLYGON ((121.40982 23.21369, 121.40984 23.213...  \n",
      "1      10013  POLYGON ((120.54846 22.46067, 120.54853 22.460...  \n",
      "2      10009  POLYGON ((120.30198 23.81625, 120.30197 23.815...  \n",
      "3      10014  MULTIPOLYGON (((121.49155 22.67746, 121.49185 ...  \n",
      "4      10014  MULTIPOLYGON (((121.61180 21.94290, 121.61133 ...  \n",
      "<class 'geopandas.geodataframe.GeoDataFrame'>\n"
     ]
    }
   ],
   "source": [
    "town = gpd.read_file(shapefile_path+\"\\TOWN_MOI_1091016.shp\", encoding=\"utf-8\")\n",
    "county = gpd.read_file(shapefile_path+\"\\COUNTY_MOI_1090820.shp\", encoding=\"utf-8\")\n",
    "# print(town)\n",
    "print(town.head())\n",
    "a = county.loc[county[\"COUNTYNAME\"] == str(\"臺北市\"), \"geometry\"]\n",
    "#print(town.loc[town[\"COUNTYNAME\"] == str(\"臺北市\"), \"geometry\"])\n",
    "ar = town.loc[town[\"COUNTYNAME\"] == str(\"臺北市\"), \"geometry\"]\n",
    "# 121.543296813965, 25.0128002166748\n",
    "print(type(town))\n",
    "\n",
    "siteintown = sjoin(site_geo, town[[\"COUNTYCODE\", \"TOWNCODE\", \"COUNTYNAME\", \"TOWNNAME\", \"geometry\"]], how=\"left\", predicate='intersects')\n",
    "#siteintown.to_excel('.\\SiteLocation.xlsx',sheet_name='sites',index=False)"
   ]
  },
  {
   "cell_type": "code",
   "execution_count": null,
   "id": "e7ca6077",
   "metadata": {},
   "outputs": [],
   "source": []
  }
 ],
 "metadata": {
  "kernelspec": {
   "display_name": "Python (eqreplay)",
   "language": "python",
   "name": "eqreplay"
  },
  "language_info": {
   "codemirror_mode": {
    "name": "ipython",
    "version": 3
   },
   "file_extension": ".py",
   "mimetype": "text/x-python",
   "name": "python",
   "nbconvert_exporter": "python",
   "pygments_lexer": "ipython3",
   "version": "3.8.12"
  }
 },
 "nbformat": 4,
 "nbformat_minor": 5
}
